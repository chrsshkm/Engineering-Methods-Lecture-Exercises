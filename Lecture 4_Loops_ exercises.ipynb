{
 "cells": [
  {
   "cell_type": "markdown",
   "id": "bf181aa5",
   "metadata": {},
   "source": [
    "## Review on if statements "
   ]
  },
  {
   "cell_type": "markdown",
   "id": "48ee0ef5",
   "metadata": {},
   "source": [
    "## 🧊 Simulate a Thermostat\n",
    "Ask the user for the current temperature and print:\n",
    "- “It’s cold” if < 60°F\n",
    "- “It’s comfortable” if between 60°F and 75°F\n",
    "- “It’s hot” if > 75°F"
   ]
  },
  {
   "cell_type": "code",
   "execution_count": 6,
   "id": "51140bb1",
   "metadata": {},
   "outputs": [
    {
     "name": "stdout",
     "output_type": "stream",
     "text": [
      "it is hot\n"
     ]
    }
   ],
   "source": [
    "temperature = input(\"Enter the current temperature in Fahrenheit: \")\n",
    "# Your code here\n",
    "temp = float(temperature) # turn str into float\n",
    "if temp < 60:\n",
    "    print(\"it is cold\")\n",
    "elif temp > 75:\n",
    "    print('it is hot') \n",
    "else:\n",
    "    print(\"it is comfortable\")"
   ]
  },
  {
   "cell_type": "markdown",
   "id": "c69bd652",
   "metadata": {},
   "source": [
    "## 🌊 Fluid Flow Calculation\n",
    "\n",
    "You are analyzing fluid flow in a pipe. The flow regime depends on the Reynolds number, which is calculated using:\n",
    "Re = (ρDv)/ μ.\n",
    "\n",
    "Where:\n",
    "Re = Reynolds number, a dimensionless number;\n",
    "ρ = density of the fluid;\n",
    "D = diameter of the passage way;\n",
    "v = velocity of the fluid;\n",
    "μ = viscosity of the fluid.\n",
    "\n",
    "Write a program that:\n",
    "- Asks for fluid properties and flow velocity.\n",
    "- Calculates Reynolds number.\n",
    "- Uses nested conditionals to classify the flow as:\n",
    "  - Laminar (Re < 2000)\n",
    "  - Transitional (2000 ≤ Re ≤ 4000)\n",
    "  - Turbulent (Re > 4000)\n"
   ]
  },
  {
   "cell_type": "code",
   "execution_count": 1,
   "id": "bed535c4",
   "metadata": {},
   "outputs": [
    {
     "name": "stdout",
     "output_type": "stream",
     "text": [
      "The Reynolds number is: 1120224719.1\n",
      "It is turbulent\n"
     ]
    }
   ],
   "source": [
    "# Get Fluid Velocity and Pipe Diameter       \n",
    "v =  input (\"Enter flow velocity (m/s): \")            # Ask use to enter flow velocity (m/s)\n",
    "D =  input (\"Enter pipe diameter (m): \")              # Ask user to enter pipe diameter (m)\n",
    "# Constants\n",
    "rho = 997        # Water density ρ (kg/m^3)  \n",
    "mu = 0.00089     # Dynamic viscosity of Water μ (Pa·s)   \n",
    "\n",
    "# Convert inputs to float\n",
    "v = float(v)\n",
    "D = float(D) # if you don't convert, you will get an error when you try to do math with strings\n",
    "\n",
    "# Calculate Reynolds number\n",
    "# Your code here \n",
    "Re = (rho * v * D)/mu\n",
    "Re = round(Re, 2)\n",
    "\n",
    "# Print the result\n",
    "print(\"The Reynolds number is: \" + str(Re)) # Note that str() converts a number to a string for Re. \n",
    "\n",
    "# Your code here\n",
    "if Re < 2000:\n",
    "    print (\"It is laminar.\")\n",
    "elif Re > 4000:\n",
    "    print (\"It is turbulent\")\n",
    "else:\n",
    "    print(\"It is transitional.\")"
   ]
  },
  {
   "cell_type": "code",
   "execution_count": 15,
   "id": "cb5a7910",
   "metadata": {},
   "outputs": [
    {
     "name": "stdout",
     "output_type": "stream",
     "text": [
      "The Reynalds number is: 11202247.19\n",
      "turbulent\n"
     ]
    }
   ],
   "source": [
    "v = input(\"enter velocity in m/s:\" )\n",
    "d= input(\"enter pipe diameter in m\")\n",
    "rho = 997\n",
    "mu = 0.00089\n",
    "V = float(v)\n",
    "D = float(D)\n",
    "Re = (rho * V * D)/mu\n",
    "print(\"The Reynalds number is: \" + str(round(Re,2)))\n",
    "if Re < 2000:\n",
    "    print(\"Laminar\")\n",
    "elif Re > 4000:\n",
    "    print(\"turbulent\")\n",
    "else:\n",
    "    print(\"Transitional\")"
   ]
  },
  {
   "cell_type": "markdown",
   "id": "da140da0",
   "metadata": {},
   "source": [
    "## More on loops- Lecture 4 "
   ]
  },
  {
   "cell_type": "markdown",
   "id": "18bb680b",
   "metadata": {},
   "source": [
    "## 🔩 Bolt Counter\n",
    "\n",
    "A machine uses bolts in sets of 4 per assembly. Calculate how many bolts are needed for 10 assemblies. Print a message every time an assembly is completed.\n",
    "assemblies = 10\n",
    "bolts_per_assembly = 4\n"
   ]
  },
  {
   "cell_type": "code",
   "execution_count": null,
   "id": "6839b8c5",
   "metadata": {},
   "outputs": [],
   "source": []
  },
  {
   "cell_type": "code",
   "execution_count": null,
   "id": "fd1d52b0",
   "metadata": {},
   "outputs": [
    {
     "name": "stdout",
     "output_type": "stream",
     "text": [
      "Assembly 1 done, Total bolts used 4\n",
      "Assembly 2 done, Total bolts used 8\n",
      "Assembly 3 done, Total bolts used 12\n",
      "Assembly 4 done, Total bolts used 16\n",
      "Assembly 5 done, Total bolts used 20\n",
      "Assembly 6 done, Total bolts used 24\n",
      "Assembly 7 done, Total bolts used 28\n",
      "Assembly 8 done, Total bolts used 32\n",
      "Assembly 9 done, Total bolts used 36\n",
      "Assembly 10 done, Total bolts used 40\n",
      "total number of bolts used: 40\n"
     ]
    }
   ],
   "source": [
    "ass = 10\n",
    "bpa = 4\n",
    "tb = 0\n",
    "for i in range(1, ass + 1):\n",
    "    tb += bpa \n",
    "    print(\"Assembly \" + str(i) + \" done, Total bolts used \" +str(tb))\n",
    "print(\"total number of bolts used: \" + str(tb))"
   ]
  },
  {
   "cell_type": "code",
   "execution_count": 28,
   "id": "e38650d8",
   "metadata": {},
   "outputs": [
    {
     "name": "stdout",
     "output_type": "stream",
     "text": [
      "Assembly 1 done, Total bolts used 4\n",
      "Assembly 2 done, Total bolts used 8\n",
      "Assembly 3 done, Total bolts used 12\n",
      "Assembly 4 done, Total bolts used 16\n",
      "Assembly 5 done, Total bolts used 20\n",
      "Assembly 6 done, Total bolts used 24\n",
      "Assembly 7 done, Total bolts used 28\n",
      "Assembly 8 done, Total bolts used 32\n",
      "Assembly 9 done, Total bolts used 36\n",
      "Assembly 10 done, Total bolts used 40\n",
      "total number of bolts used: 40\n"
     ]
    }
   ],
   "source": [
    "ass = 10\n",
    "bpa = 4\n",
    "tb =0\n",
    "i = 1\n",
    "while i <= 10:\n",
    "    tb += bpa \n",
    "    print(\"Assembly \" + str(i) + \" done, Total bolts used \" +str(tb))\n",
    "    i += 1\n",
    "print(\"total number of bolts used: \" + str(tb))\n"
   ]
  },
  {
   "cell_type": "markdown",
   "id": "c63188b6",
   "metadata": {},
   "source": [
    "## ❄️ Cooling Curve Generator\n",
    "\n",
    "Simulate the cooling of a metal block using Newton’s Law of Cooling: T(t) = T_env + (T0 - T_env) * e^(-kt)."
   ]
  },
  {
   "cell_type": "code",
   "execution_count": 2,
   "id": "45a0eac6",
   "metadata": {},
   "outputs": [
    {
     "name": "stdout",
     "output_type": "stream",
     "text": [
      "At 0 minute, temperature is 100.00 °C\n",
      "At 1 minute, temperature is 92.86 °C\n",
      "At 2 minute, temperature is 86.40 °C\n",
      "At 3 minute, temperature is 80.56 °C\n",
      "At 4 minute, temperature is 75.27 °C\n",
      "At 5 minute, temperature is 70.49 °C\n",
      "At 6 minute, temperature is 66.16 °C\n",
      "At 7 minute, temperature is 62.24 °C\n",
      "At 8 minute, temperature is 58.70 °C\n",
      "At 9 minute, temperature is 55.49 °C\n",
      "At 10 minute, temperature is 52.59 °C\n"
     ]
    }
   ],
   "source": [
    "import math\n",
    "\n",
    "T_env = 25  # ambient temperature in °C\n",
    "T0 = 100  # initial temperature in °C\n",
    "k = 0.1  # cooling constant\n",
    "time_steps = range(0, 11)  # time from 0 to 10 minutes\n",
    "\n",
    "# Loop through time steps\n",
    "for t in time_steps:\n",
    "    # Your code here\n",
    "    T_t = T_env + (T0 - T_env) * math.exp(- k * t)\n",
    "    print(f\"At {t} minute, temperature is {T_t:.2f} °C\")"
   ]
  },
  {
   "cell_type": "markdown",
   "id": "bd7d5878",
   "metadata": {},
   "source": [
    "## 🌊 Simple Harmonic Motion Tracker\n",
    "\n",
    "Simulate the position of a spring-mass system over time using x(t) = A * cos(ωt). ω is the angular frequency in rad/s, which equals to 2πf. f is the linear frequency in hertz (1/second). Print out the position at each time step. Make sure you can see a Cos function in your output."
   ]
  },
  {
   "cell_type": "code",
   "execution_count": 3,
   "id": "bbd2b889",
   "metadata": {},
   "outputs": [
    {
     "name": "stdout",
     "output_type": "stream",
     "text": [
      "At t= 0, x(t)=  1.0000\n",
      "At t= 1, x(t)=  0.9980\n",
      "At t= 2, x(t)=  0.9921\n",
      "At t= 3, x(t)=  0.9823\n",
      "At t= 4, x(t)=  0.9686\n",
      "At t= 5, x(t)=  0.9511\n",
      "At t= 6, x(t)=  0.9298\n",
      "At t= 7, x(t)=  0.9048\n",
      "At t= 8, x(t)=  0.8763\n",
      "At t= 9, x(t)=  0.8443\n",
      "At t= 10, x(t)=  0.8090\n",
      "At t= 11, x(t)=  0.7705\n",
      "At t= 12, x(t)=  0.7290\n",
      "At t= 13, x(t)=  0.6845\n",
      "At t= 14, x(t)=  0.6374\n",
      "At t= 15, x(t)=  0.5878\n",
      "At t= 16, x(t)=  0.5358\n",
      "At t= 17, x(t)=  0.4818\n",
      "At t= 18, x(t)=  0.4258\n",
      "At t= 19, x(t)=  0.3681\n",
      "At t= 20, x(t)=  0.3090\n",
      "At t= 21, x(t)=  0.2487\n",
      "At t= 22, x(t)=  0.1874\n",
      "At t= 23, x(t)=  0.1253\n",
      "At t= 24, x(t)=  0.0628\n",
      "At t= 25, x(t)= -0.0000\n",
      "At t= 26, x(t)= -0.0628\n",
      "At t= 27, x(t)= -0.1253\n",
      "At t= 28, x(t)= -0.1874\n",
      "At t= 29, x(t)= -0.2487\n",
      "At t= 30, x(t)= -0.3090\n",
      "At t= 31, x(t)= -0.3681\n",
      "At t= 32, x(t)= -0.4258\n",
      "At t= 33, x(t)= -0.4818\n",
      "At t= 34, x(t)= -0.5358\n",
      "At t= 35, x(t)= -0.5878\n",
      "At t= 36, x(t)= -0.6374\n",
      "At t= 37, x(t)= -0.6845\n",
      "At t= 38, x(t)= -0.7290\n",
      "At t= 39, x(t)= -0.7705\n",
      "At t= 40, x(t)= -0.8090\n",
      "At t= 41, x(t)= -0.8443\n",
      "At t= 42, x(t)= -0.8763\n",
      "At t= 43, x(t)= -0.9048\n",
      "At t= 44, x(t)= -0.9298\n",
      "At t= 45, x(t)= -0.9511\n",
      "At t= 46, x(t)= -0.9686\n",
      "At t= 47, x(t)= -0.9823\n",
      "At t= 48, x(t)= -0.9921\n",
      "At t= 49, x(t)= -0.9980\n",
      "At t= 50, x(t)= -1.0000\n",
      "At t= 51, x(t)= -0.9980\n",
      "At t= 52, x(t)= -0.9921\n",
      "At t= 53, x(t)= -0.9823\n",
      "At t= 54, x(t)= -0.9686\n",
      "At t= 55, x(t)= -0.9511\n",
      "At t= 56, x(t)= -0.9298\n",
      "At t= 57, x(t)= -0.9048\n",
      "At t= 58, x(t)= -0.8763\n",
      "At t= 59, x(t)= -0.8443\n",
      "At t= 60, x(t)= -0.8090\n",
      "At t= 61, x(t)= -0.7705\n",
      "At t= 62, x(t)= -0.7290\n",
      "At t= 63, x(t)= -0.6845\n",
      "At t= 64, x(t)= -0.6374\n",
      "At t= 65, x(t)= -0.5878\n",
      "At t= 66, x(t)= -0.5358\n",
      "At t= 67, x(t)= -0.4818\n",
      "At t= 68, x(t)= -0.4258\n",
      "At t= 69, x(t)= -0.3681\n",
      "At t= 70, x(t)= -0.3090\n",
      "At t= 71, x(t)= -0.2487\n",
      "At t= 72, x(t)= -0.1874\n",
      "At t= 73, x(t)= -0.1253\n",
      "At t= 74, x(t)= -0.0628\n",
      "At t= 75, x(t)= -0.0000\n",
      "At t= 76, x(t)=  0.0628\n",
      "At t= 77, x(t)=  0.1253\n",
      "At t= 78, x(t)=  0.1874\n",
      "At t= 79, x(t)=  0.2487\n",
      "At t= 80, x(t)=  0.3090\n",
      "At t= 81, x(t)=  0.3681\n",
      "At t= 82, x(t)=  0.4258\n",
      "At t= 83, x(t)=  0.4818\n",
      "At t= 84, x(t)=  0.5358\n",
      "At t= 85, x(t)=  0.5878\n",
      "At t= 86, x(t)=  0.6374\n",
      "At t= 87, x(t)=  0.6845\n",
      "At t= 88, x(t)=  0.7290\n",
      "At t= 89, x(t)=  0.7705\n",
      "At t= 90, x(t)=  0.8090\n",
      "At t= 91, x(t)=  0.8443\n",
      "At t= 92, x(t)=  0.8763\n",
      "At t= 93, x(t)=  0.9048\n",
      "At t= 94, x(t)=  0.9298\n",
      "At t= 95, x(t)=  0.9511\n",
      "At t= 96, x(t)=  0.9686\n",
      "At t= 97, x(t)=  0.9823\n",
      "At t= 98, x(t)=  0.9921\n",
      "At t= 99, x(t)=  0.9980\n"
     ]
    }
   ],
   "source": [
    "import math\n",
    "f = 0.01\n",
    "A = 1\n",
    "o = 2 * math.pi * f\n",
    "ts = range(0,100)\n",
    "for t in ts:\n",
    "    x = A *math.cos(o * t)\n",
    "    print(f\"At t= {t}, x(t)= {x: .4f}\")"
   ]
  },
  {
   "cell_type": "markdown",
   "id": "1f4170de",
   "metadata": {},
   "source": [
    "## 📚 Study Timer\n",
    "\n",
    "Loop through 5 study sessions of 25 minutes each. After each session, print the session number and \"Take a 5-minute break!\".\n",
    "\n",
    "Track total study time and break time and print them out at the end."
   ]
  },
  {
   "cell_type": "code",
   "execution_count": 5,
   "id": "d44150c4",
   "metadata": {},
   "outputs": [
    {
     "name": "stdout",
     "output_type": "stream",
     "text": [
      "Session {sessions} ends: Take a 5-minute break.\n",
      "Session {sessions} ends: Take a 5-minute break.\n",
      "Session {sessions} ends: Take a 5-minute break.\n",
      "Session {sessions} ends: Take a 5-minute break.\n",
      "Session {sessions} ends: Take a 5-minute break.\n",
      "Total study time: 125 minutes\n",
      "Total break time: 25 minutes\n"
     ]
    }
   ],
   "source": [
    "ss = 5\n",
    "st = 0\n",
    "bt = 0\n",
    "sps = 25\n",
    "bps = 5\n",
    "for sessions in range (1, ss +1):\n",
    "    st += sps\n",
    "    bt+= bps\n",
    "    print(\"Session {sessions} ends: Take a 5-minute break.\")\n",
    "print(f\"Total study time: {study_time} minutes\")\n",
    "print(f\"Total break time: {break_time} minutes\")"
   ]
  },
  {
   "cell_type": "markdown",
   "id": "a7f7b3fd",
   "metadata": {},
   "source": [
    "## 🏃 Step Counter\n",
    "\n",
    "Simulate a pedometer that logs steps every minute. Loop through 60 minutes and sum the total steps.\n",
    "Use random.randint(80, 120) to simulate steps per minute."
   ]
  },
  {
   "cell_type": "code",
   "execution_count": 10,
   "id": "26d60093",
   "metadata": {},
   "outputs": [
    {
     "name": "stdout",
     "output_type": "stream",
     "text": [
      "Minute 1: 120 steps\n",
      "Minute 2: 84 steps\n",
      "Minute 3: 98 steps\n",
      "Minute 4: 119 steps\n",
      "Minute 5: 102 steps\n",
      "Minute 6: 108 steps\n",
      "Minute 7: 101 steps\n",
      "Minute 8: 95 steps\n",
      "Minute 9: 106 steps\n",
      "Minute 10: 97 steps\n",
      "Minute 11: 115 steps\n",
      "Minute 12: 105 steps\n",
      "Minute 13: 111 steps\n",
      "Minute 14: 93 steps\n",
      "Minute 15: 96 steps\n",
      "Minute 16: 100 steps\n",
      "Minute 17: 110 steps\n",
      "Minute 18: 110 steps\n",
      "Minute 19: 99 steps\n",
      "Minute 20: 80 steps\n",
      "Minute 21: 89 steps\n",
      "Minute 22: 100 steps\n",
      "Minute 23: 106 steps\n",
      "Minute 24: 93 steps\n",
      "Minute 25: 92 steps\n",
      "Minute 26: 109 steps\n",
      "Minute 27: 115 steps\n",
      "Minute 28: 97 steps\n",
      "Minute 29: 117 steps\n",
      "Minute 30: 117 steps\n",
      "Minute 31: 105 steps\n",
      "Minute 32: 87 steps\n",
      "Minute 33: 85 steps\n",
      "Minute 34: 103 steps\n",
      "Minute 35: 109 steps\n",
      "Minute 36: 91 steps\n",
      "Minute 37: 117 steps\n",
      "Minute 38: 110 steps\n",
      "Minute 39: 95 steps\n",
      "Minute 40: 109 steps\n",
      "Minute 41: 113 steps\n",
      "Minute 42: 84 steps\n",
      "Minute 43: 110 steps\n",
      "Minute 44: 113 steps\n",
      "Minute 45: 88 steps\n",
      "Minute 46: 120 steps\n",
      "Minute 47: 89 steps\n",
      "Minute 48: 100 steps\n",
      "Minute 49: 116 steps\n",
      "Minute 50: 106 steps\n",
      "Minute 51: 99 steps\n",
      "Minute 52: 105 steps\n",
      "Minute 53: 107 steps\n",
      "Minute 54: 119 steps\n",
      "Minute 55: 91 steps\n",
      "Minute 56: 113 steps\n",
      "Minute 57: 98 steps\n",
      "Minute 58: 108 steps\n",
      "Minute 59: 118 steps\n",
      "Minute 60: 109 steps\n",
      "Total steps in 1 hour: 6201\n"
     ]
    }
   ],
   "source": [
    "import random\n",
    "ts = 0\n",
    "m = 0\n",
    "for m in range (60):\n",
    "    m = m + 1\n",
    "    s = random.randint(80,120)\n",
    "    ts = ts + s\n",
    "    print(f\"Minute {m}: {s} steps\")\n",
    "\n",
    "print(f\"Total steps in 1 hour: {ts}\")\n",
    "    "
   ]
  },
  {
   "cell_type": "markdown",
   "id": "1c31ade7",
   "metadata": {},
   "source": [
    "## 🔁 Material Fatigue Counter\n",
    "\n",
    "Count how many cycles a material can endure before failure. Reduce strength slightly each cycle (you decide the deduction) and stop when it drops below a threshold."
   ]
  },
  {
   "cell_type": "code",
   "execution_count": 12,
   "id": "2debfbe1",
   "metadata": {},
   "outputs": [
    {
     "name": "stdout",
     "output_type": "stream",
     "text": [
      "Cycle 1- Current strength is 16.20\n",
      "Cycle 2- Current strength is 14.40\n",
      "Cycle 3- Current strength is 12.60\n",
      "Cycle 4- Current strength is 10.80\n",
      "Cycle 5- Current strength is 9.00\n",
      "Material failed after 5 cycles.\n"
     ]
    }
   ],
   "source": [
    "s_strength = 18\n",
    "fail=10\n",
    "s = s_strength\n",
    "cy = 0\n",
    "while s > fail:\n",
    "    fatigue = s_strength * 0.1\n",
    "    s = s - fatigue\n",
    "    cy += 1\n",
    "    print(f\"Cycle {cy}- Current strength is {s:.2f}\")\n",
    "\n",
    "print(f\"Material failed after {cy} cycles.\")\n"
   ]
  },
  {
   "cell_type": "markdown",
   "id": "a7def41f",
   "metadata": {},
   "source": [
    "## 📱 Battery Drain Simulator\n",
    "\n",
    "Simulate a phone battery draining 5% every hour. Use a loop to show battery level over time until it reaches 0%.\n",
    "Print a warning when battery drops below 20% and a final message if the battery is drained. \n",
    "\n",
    "Hint: You may use a conditional statement nested in a while loop."
   ]
  },
  {
   "cell_type": "code",
   "execution_count": 16,
   "id": "bbfab88e",
   "metadata": {},
   "outputs": [
    {
     "name": "stdout",
     "output_type": "stream",
     "text": [
      "hour: 1 - current battery level is 95.\n",
      "hour: 2 - current battery level is 90.\n",
      "hour: 3 - current battery level is 85.\n",
      "hour: 4 - current battery level is 80.\n",
      "hour: 5 - current battery level is 75.\n",
      "hour: 6 - current battery level is 70.\n",
      "hour: 7 - current battery level is 65.\n",
      "hour: 8 - current battery level is 60.\n",
      "hour: 9 - current battery level is 55.\n",
      "hour: 10 - current battery level is 50.\n",
      "hour: 11 - current battery level is 45.\n",
      "hour: 12 - current battery level is 40.\n",
      "hour: 13 - current battery level is 35.\n",
      "hour: 14 - current battery level is 30.\n",
      "hour: 15 - current battery level is 25.\n",
      "hour: 16 - current battery level is 20.\n",
      "warning: battery low\n",
      "hour: 17 - current battery level is 15.\n",
      "hour: 18 - current battery level is 10.\n",
      "hour: 19 - current battery level is 5.\n",
      "hour: 20 - current battery level is 0.\n",
      "battery died.\n"
     ]
    }
   ],
   "source": [
    "b = 100\n",
    "h = 0\n",
    "use = 5\n",
    "while b > 0:\n",
    "    h += 1\n",
    "    b = b - use\n",
    "    print(f\"hour: {h} - current battery level is {b}.\")\n",
    "    if b == 20:\n",
    "        print(\"warning: battery low\")\n",
    "print(\"battery died.\")\n"
   ]
  }
 ],
 "metadata": {
  "kernelspec": {
   "display_name": "Python 3",
   "language": "python",
   "name": "python3"
  },
  "language_info": {
   "codemirror_mode": {
    "name": "ipython",
    "version": 3
   },
   "file_extension": ".py",
   "mimetype": "text/x-python",
   "name": "python",
   "nbconvert_exporter": "python",
   "pygments_lexer": "ipython3",
   "version": "3.13.7"
  }
 },
 "nbformat": 4,
 "nbformat_minor": 5
}
