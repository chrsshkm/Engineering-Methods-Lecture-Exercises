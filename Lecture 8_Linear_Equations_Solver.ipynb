{
 "cells": [
  {
   "cell_type": "markdown",
   "id": "590dcbba",
   "metadata": {},
   "source": [
    "# A. Basics of Linear Algebra to Solve Systems of Equations\n",
    "\n",
    "**Goals**\n",
    "- Understand how to represent a linear system in matrix form $A\\mathbf{x}=\\mathbf{b}$.\n",
    "- Diagnose when a system has a unique solution, infinitely many solutions, or no solution.\n",
    "- Use NumPy to compute ranks, determinants, and solve or analyze systems.\n",
    "- See geometric intuition in 2D (lines) and learn core algorithms (Gaussian elimination)."
   ]
  },
  {
   "cell_type": "code",
   "execution_count": 1,
   "id": "844c2aca",
   "metadata": {},
   "outputs": [],
   "source": [
    "# Add this to your cells to import commonly used libraries\n",
    "import numpy as np\n",
    "from numpy.linalg import matrix_rank, det, solve, lstsq, inv\n",
    "import matplotlib.pyplot as plt\n",
    "np.set_printoptions(suppress=True, precision=4)"
   ]
  },
  {
   "cell_type": "markdown",
   "id": "9ecf3195",
   "metadata": {},
   "source": [
    "### 1. Linear systems and matrix form\n",
    "A linear system with unknown vector $\\mathbf{x} \\in \\mathbb{R}^n$ can be written as $A\\mathbf{x} = \\mathbf{b},$ where $A \\in \\mathbb{R}^{m\\times n}$ is the coefficient matrix and $\\mathbf{b} \\in \\mathbb{R}^m$.\n",
    "\n",
    "**Augmented matrix**: $[A\\mid \\mathbf{b}]$ is useful for row-reduction (Gaussian elimination)."
   ]
  },
  {
   "cell_type": "markdown",
   "id": "efed71d1",
   "metadata": {},
   "source": [
    "In this example below, we have two equations: \n",
    "x + y + z = 3 & 2x -y -3z = 0"
   ]
  },
  {
   "cell_type": "code",
   "execution_count": 2,
   "id": "8517c844",
   "metadata": {},
   "outputs": [
    {
     "name": "stdout",
     "output_type": "stream",
     "text": [
      "A =\n",
      " [[ 1.  1.  1.]\n",
      " [ 2. -1. -3.]]\n",
      "b =\n",
      " [3. 0.]\n",
      "Augmented [A|b] =\n",
      " [[ 1.  1.  1.  3.]\n",
      " [ 2. -1. -3.  0.]]\n"
     ]
    }
   ],
   "source": [
    "# Add comments yourself!!!\n",
    "# A small example system\n",
    "import numpy as np\n",
    "A = np.array([[1., 1., 1.], [2., -1., -3]])\n",
    "b = np.array([3., 0.])#[:, None]\n",
    "print('A =\\n', A)\n",
    "print('b =\\n', b)\n",
    "aug = np.c_[A, b]  # Syntax to create augmented matrix [A|b]\n",
    "print('Augmented [A|b] =\\n', aug)"
   ]
  },
  {
   "cell_type": "markdown",
   "id": "2ffa7d9e",
   "metadata": {},
   "source": [
    "### 2. Types of solutions and rank conditions\n",
    "Let $r = \\operatorname{rank}(A)$ and $r_a = \\operatorname{rank}([A\\mid \\mathbf{b}])$.\n",
    "- **Unique solution**: $r = r_a = n$.\n",
    "- **Infinitely many solutions**: $r = r_a < n$.\n",
    "- **No solution** (inconsistent): $r \\neq r_a$.\n",
    "\n",
    "For a square system ($m=n$): $\\det(A) \\neq 0$ $\\Rightarrow$ unique solution; if $\\det(A)=0$, then either infinitely many or none (check consistency)."
   ]
  },
  {
   "cell_type": "markdown",
   "id": "0abd2180",
   "metadata": {},
   "source": [
    "#### 2.1 Unique solution example\n",
    "We have two equations in the example below: x + y = 3 & 2x - y = 0. That's why we have a unique solution."
   ]
  },
  {
   "cell_type": "code",
   "execution_count": 3,
   "id": "6aa49b12",
   "metadata": {},
   "outputs": [
    {
     "name": "stdout",
     "output_type": "stream",
     "text": [
      "rank(A)= 2  rank([A|b])= 2\n",
      "det(A)= -2.9999999999999996\n"
     ]
    }
   ],
   "source": [
    "A1 = np.array([[1., 1.], [2., -1.]])\n",
    "b1 = np.array([3., 0.])\n",
    "rA1 = matrix_rank(A1)\n",
    "rAug1 = matrix_rank(np.c_[A1, b1])\n",
    "print('rank(A)=', rA1, ' rank([A|b])=', rAug1)\n",
    "print('det(A)=', det(A1))"
   ]
  },
  {
   "cell_type": "markdown",
   "id": "53c9eba0",
   "metadata": {},
   "source": [
    "Exercise- \n",
    "Plot these two functions in the same plot"
   ]
  },
  {
   "cell_type": "code",
   "execution_count": 9,
   "id": "a3914614",
   "metadata": {},
   "outputs": [
    {
     "data": {
      "text/plain": [
       "[<matplotlib.lines.Line2D at 0x183db694550>]"
      ]
     },
     "execution_count": 9,
     "metadata": {},
     "output_type": "execute_result"
    },
    {
     "data": {
      "image/png": "[encoded data removed]",
      "text/plain": [
       "<Figure size 640x480 with 1 Axes>"
      ]
     },
     "metadata": {},
     "output_type": "display_data"
    }
   ],
   "source": [
    "y1 = 3 -x\n",
    "y2 = 2*x\n",
    "x = np.linspace(-5,5,100)\n",
    "\n",
    "plt.plot(x, y1, label='y=x-3')\n",
    "plt.plot(x, y2, label='y=2x')"
   ]
  },
  {
   "cell_type": "markdown",
   "id": "3052c9bd",
   "metadata": {},
   "source": [
    "#### 2.2 Infinitely many solutions example\n",
    "In this example, the second equation is a multiple of the first."
   ]
  },
  {
   "cell_type": "code",
   "execution_count": 10,
   "id": "ca3dcd5f",
   "metadata": {},
   "outputs": [
    {
     "name": "stdout",
     "output_type": "stream",
     "text": [
      "rank(A)= 1  rank([A|b])= 1\n",
      "det(A)= 0.0\n"
     ]
    }
   ],
   "source": [
    "A2 = np.array([[1., 1.], [2., 2.]])\n",
    "b2 = np.array([2., 4.])\n",
    "rA2 = matrix_rank(A2)\n",
    "rAug2 = matrix_rank(np.c_[A2, b2])\n",
    "print('rank(A)=', rA2, ' rank([A|b])=', rAug2)\n",
    "print('det(A)=', det(A2))"
   ]
  },
  {
   "cell_type": "markdown",
   "id": "404ca168",
   "metadata": {},
   "source": [
    "Exercise- \n",
    "\n",
    "Plot there two functions together in one plot: x + y = 2 & 2x + 2y = 4"
   ]
  },
  {
   "cell_type": "code",
   "execution_count": 15,
   "id": "ec94ab8a",
   "metadata": {},
   "outputs": [
    {
     "data": {
      "text/plain": [
       "[<matplotlib.lines.Line2D at 0x183db6fbd90>]"
      ]
     },
     "execution_count": 15,
     "metadata": {},
     "output_type": "execute_result"
    },
    {
     "data": {
      "image/png": "[encoded data removed]",
      "text/plain": [
       "<Figure size 640x480 with 1 Axes>"
      ]
     },
     "metadata": {},
     "output_type": "display_data"
    }
   ],
   "source": [
    "# Your code here\n",
    "y1 = 2 - x\n",
    "y2 = 2 - x\n",
    "x = np.linspace(-5,5,100)\n",
    "\n",
    "plt.plot(x, y1,)\n",
    "plt.plot(x, y2,)"
   ]
  },
  {
   "cell_type": "markdown",
   "id": "7137c777",
   "metadata": {},
   "source": [
    "#### 2.3 No solution example\n",
    "Parallel lines (inconsistent)."
   ]
  },
  {
   "cell_type": "code",
   "execution_count": 2,
   "id": "13fa1528",
   "metadata": {},
   "outputs": [
    {
     "name": "stdout",
     "output_type": "stream",
     "text": [
      "rank(A)= 1  rank([A|b])= 2  => inconsistent\n",
      "det(A)= 0.0\n"
     ]
    }
   ],
   "source": [
    "A3 = np.array([[1., 1.], [2., 2.]])\n",
    "b3 = np.array([2., 5.])\n",
    "rA3 = matrix_rank(A3)\n",
    "rAug3 = matrix_rank(np.c_[A3, b3])\n",
    "print('rank(A)=', rA3, ' rank([A|b])=', rAug3, ' => inconsistent')\n",
    "print('det(A)=', det(A3))\n"
   ]
  },
  {
   "cell_type": "markdown",
   "id": "6baab1da",
   "metadata": {},
   "source": [
    "Exercise-\n",
    "\n",
    "Plot these two functions toghether in one plot: x + y = 2 & 2x + 2y = 5"
   ]
  },
  {
   "cell_type": "code",
   "execution_count": 13,
   "id": "fa2a6060",
   "metadata": {},
   "outputs": [
    {
     "data": {
      "text/plain": [
       "[<matplotlib.lines.Line2D at 0x183db881590>]"
      ]
     },
     "execution_count": 13,
     "metadata": {},
     "output_type": "execute_result"
    },
    {
     "data": {
      "image/png": "[encoded data removed]",
      "text/plain": [
       "<Figure size 640x480 with 1 Axes>"
      ]
     },
     "metadata": {},
     "output_type": "display_data"
    }
   ],
   "source": [
    "# Your code here\n",
    "y1 = 2 - x\n",
    "y2 = (5-2*x)/2\n",
    "x = np.linspace(-5,5,100)\n",
    "plt.plot(x, y1, label='y=2-x')\n",
    "plt.plot(x, y2, label='y=(5-2x)/2')\n",
    "\n"
   ]
  },
  {
   "cell_type": "markdown",
   "id": "27884b72",
   "metadata": {},
   "source": [
    "# B. Solving Systems of Linear Equations with Python\n",
    "We will explore various methods for solving systems of linear equations using Python. We will cover\n",
    "\n",
    "1. Solving systems using `numpy.linalg.solve` and matrix inversion\n",
    "2. Gauss Elimination\n",
    "3. Iterative methods like Gauss-Seidel\n",
    "4. Least squares method"
   ]
  },
  {
   "cell_type": "markdown",
   "id": "b9f1b9f9",
   "metadata": {},
   "source": [
    "## 1. Types of Solutions to Linear Systems\n",
    "- Unique solution\n",
    "- Infinite solutions\n",
    "- No solution\n",
    "- Geometric interpretation\n",
    "- Role of rank and determinant"
   ]
  },
  {
   "cell_type": "markdown",
   "id": "d5a3e065",
   "metadata": {},
   "source": [
    "### Geometric interpretation in 2D\n",
    "- Unique solution: two lines intersect at one point.\n",
    "- Infinite solutions: coincident lines.\n",
    "- No solution: parallel, distinct lines."
   ]
  },
  {
   "cell_type": "markdown",
   "id": "03d6f145",
   "metadata": {},
   "source": [
    "## 2. Direct Methods\n",
    "### a. Using `np.linalg.solve`\n",
    "When 1.)The coefficient matrix A is square (same number of equations as unknowns). 2.) The matrix A is full rank (i.e., its determinant is non-zero).\n",
    "\n",
    "Don't use when 1.) The matrix is not square. 2.)The matrix is singular (determinant is zero). 3.)The system has no solution or infinitely many solutions."
   ]
  },
  {
   "cell_type": "code",
   "execution_count": 16,
   "id": "65c95873",
   "metadata": {},
   "outputs": [
    {
     "name": "stdout",
     "output_type": "stream",
     "text": [
      "A= [[2 1]\n",
      " [1 3]]\n",
      "b= [ 8 13]\n",
      "Augmented Matrix [A|b] =\n",
      " [[ 2  1  8]\n",
      " [ 1  3 13]]\n",
      "rank(A)= 2  rank([A|b])= 2\n",
      "det(A)= 5.000000000000001\n",
      "Solution:\n",
      " [2.2 3.6]\n"
     ]
    }
   ],
   "source": [
    "import numpy as np\n",
    "A = np.array([[2, 1], [1, 3]])\n",
    "b = np.array([8, 13])\n",
    "print(\"A=\", A)\n",
    "print(\"b=\", b)\n",
    "print(\"Augmented Matrix [A|b] =\\n\", np.c_[A, b])\n",
    "print('rank(A)=', matrix_rank(A), ' rank([A|b])=', matrix_rank(np.c_[A, b]))\n",
    "print('det(A)=', det(A))\n",
    "x = np.linalg.solve(A, b)\n",
    "print(\"Solution:\\n\", x)"
   ]
  },
  {
   "cell_type": "markdown",
   "id": "dfeabac0",
   "metadata": {},
   "source": [
    "### b. Matrix Inversion\n",
    "Determinant and invertibility (square systems)\n",
    "If $\\det(A) \\neq 0$, then $A$ is invertible and the unique solution is $\\mathbf{x}=A^{-1}\\mathbf{b}$. If $\\det(A)=0$, the system is either inconsistent or has infinitely many solutions."
   ]
  },
  {
   "cell_type": "code",
   "execution_count": 3,
   "id": "ddba0a7b",
   "metadata": {},
   "outputs": [
    {
     "name": "stdout",
     "output_type": "stream",
     "text": [
      "det(A)= 5.000000000000001\n",
      "Solution via inversion: [2.2 3.6]\n"
     ]
    }
   ],
   "source": [
    "A = np.array([[2, 1], [1, 3]])\n",
    "b = np.array([8, 13])\n",
    "print('det(A)=', det(A))\n",
    "\n",
    "# Solve using inversion (A is square and invertible here) and show result\n",
    "x = np.linalg.inv(A) @ b\n",
    "print(\"Solution via inversion:\", x)"
   ]
  },
  {
   "cell_type": "markdown",
   "id": "a408e0c5",
   "metadata": {},
   "source": [
    "## 3. Gaussian Elimination\n",
    "Manual row operations to echelon form and back-substitution.\n",
    "Below is a simple implementation with partial pivoting to reach (upper) row-echelon form and solve when a unique solution exists."
   ]
  },
  {
   "cell_type": "markdown",
   "id": "45a44497",
   "metadata": {},
   "source": [
    "### Example-\n",
    "Let's solve this system of equation:\n",
    "\n",
    "2x + y - z = 8 \n",
    "\n",
    "-3x - y + 2z = -11\n",
    "\n",
    "-2x + y + 2z = -3\n"
   ]
  },
  {
   "cell_type": "code",
   "execution_count": null,
   "id": "e2c9a7dc",
   "metadata": {},
   "outputs": [
    {
     "name": "stdout",
     "output_type": "stream",
     "text": [
      "the rank is: 3\n",
      "Initial Augmented [A|b] =\n",
      " [[ 2.  1. -1.  8.]\n",
      " [ 3.  3.  9.  0.]\n",
      " [ 3.  4.  2. -5.]]\n",
      "[[ 2.  1. -1.  8.]\n",
      " [ 3.  3.  9.  0.]\n",
      " [ 3.  4.  2. -5.]]\n",
      "[[ 1.   0.5 -0.5  4. ]\n",
      " [ 3.   3.   9.   0. ]\n",
      " [ 3.   4.   2.  -5. ]]\n",
      "\n",
      "[[  1.    0.5  -0.5   4. ]\n",
      " [  0.    1.5  10.5 -12. ]\n",
      " [  3.    4.    2.   -5. ]]\n",
      "\n",
      "[[  1.    0.5  -0.5   4. ]\n",
      " [  0.    1.5  10.5 -12. ]\n",
      " [  0.    2.5   3.5 -17. ]]\n",
      "\n",
      "[[  1.    0.5  -0.5   4. ]\n",
      " [  0.    1.    7.   -8. ]\n",
      " [  0.    2.5   3.5 -17. ]]\n",
      "\n",
      "[[  1.    0.5  -0.5   4. ]\n",
      " [  0.    1.    7.   -8. ]\n",
      " [  0.    0.  -14.    3. ]]\n",
      "\n",
      "[[ 1.      0.5    -0.5     4.    ]\n",
      " [ 0.      1.      7.     -8.    ]\n",
      " [ 0.      0.      1.     -0.2143]]\n",
      "\n",
      "z = -0.21428571428571427\n",
      "y = -6.5\n",
      "x = 7.142857142857142\n"
     ]
    }
   ],
   "source": [
    "# Your code here for Gaussian elimination step by step\n",
    "# Print out the augmented matrix at each step\n",
    "\n",
    "import numpy as np\n",
    "a = np.array([[2., 1., -1.], [3., 3., 9.], [3., 4., 2.]])\n",
    "b = np.array([8., 0., -5.])\n",
    "n= matrix_rank(np.c_[a, b])\n",
    "print(\"the rank is:\", matrix_rank(np.c_[a, b]))\n",
    "\n",
    "\n",
    "\n",
    "# Step 1: Initial Augmented Matrix\n",
    "aug = np.c_[a, b]\n",
    "print('Initial Augmented [A|b] =\\n', aug)\n",
    "print(aug)\n",
    "A_00= aug[0][0]\n",
    "for j in range(n+1):\n",
    "    aug[0][j]= aug[0][j]/A_00\n",
    "print(aug)\n",
    "print()\n",
    "A_10= aug[1][0]\n",
    "for j in range(n+1):\n",
    "    aug[1][j]= aug[1][j]- A_10*aug[0][j]\n",
    "print(aug)\n",
    "print()\n",
    "A_20= aug[2][0]\n",
    "for j in range(n+1):\n",
    "    aug[2][j]= aug[2][j]- A_20*aug[0][j]\n",
    "print(aug)\n",
    "print()\n",
    "A_11= aug[1][1]\n",
    "for j in range(1,n+1):\n",
    "    aug[1][j]= aug[1][j]/A_11 \n",
    "print(aug)\n",
    "print()\n",
    "A_21= aug[2][1]\n",
    "for j in range(1,n+1):\n",
    "    aug[2][j]= aug[2][j]- A_21*aug[1][j]\n",
    "print(aug)\n",
    "print()\n",
    "A_22= aug[2][2]\n",
    "for j in range(2,n+1):\n",
    "    aug[2][j]= aug[2][j]/A_22 \n",
    "print(aug)\n",
    "print()\n",
    "\n",
    "\n",
    "\n",
    "# Step 2: Make pivot A[0][0] = 1\n",
    "\n",
    "# Step 3: Eliminate A[1][0] using row 0\n",
    "\n",
    "# Step 4: Eliminate A[2][0] using row 0\n",
    " \n",
    "# Step 5: Make pivot A[1][1] = 1\n",
    "\n",
    "# Step 6: Eliminate A[2][1] using row 1\n",
    "\n",
    "# Step 7: Make pivot A[2][2] = 1\n",
    "\n",
    "# Step 8: Back substitution to get final solution\n",
    "print(\"z =\", aug[2][3])\n",
    "print(\"y =\", aug[1][3] - aug[1][2]*aug[2][3])\n",
    "print(\"x =\", aug[0][3] - aug[0][2]*aug[2][3] - aug[0][1]*(aug[1][3] - aug[1][2]*aug[2][3])) \n"
   ]
  },
  {
   "cell_type": "markdown",
   "id": "13969c17",
   "metadata": {},
   "source": [
    "Exercise-\n",
    "\n",
    "Use loops to do the foward elimination (i.e., make pivot and eliminate) and the back substitution for Gaussian Elimination. Draw a flow chart first. "
   ]
  },
  {
   "cell_type": "code",
   "execution_count": 17,
   "id": "ca0a4cd0",
   "metadata": {},
   "outputs": [
    {
     "name": "stdout",
     "output_type": "stream",
     "text": [
      "Solution x = [ 7.1429 -6.5    -0.2143]\n"
     ]
    }
   ],
   "source": [
    "import numpy as np\n",
    "\n",
    "def gauss_elimination_loops(A_in, b_in, pivot=True, tol=1e-12):\n",
    "    A = A_in.astype(float).copy()\n",
    "    b = b_in.astype(float).copy()\n",
    "    n = len(b)\n",
    "\n",
    "    # ---------- Forward elimination ----------\n",
    "    for k in range(n-1):\n",
    "        # Partial pivoting (recommended)\n",
    "        if pivot:\n",
    "            r = k + np.argmax(np.abs(A[k:, k]))\n",
    "            if r != k:\n",
    "                A[[k, r]] = A[[r, k]]\n",
    "                b[[k, r]] = b[[r, k]]\n",
    "\n",
    "        # Pivot check\n",
    "        if abs(A[k, k]) < tol:\n",
    "            raise ValueError(f\"Singular or nearly singular pivot at column {k}.\")\n",
    "\n",
    "        # Eliminate entries below pivot in column k\n",
    "        for i in range(k+1, n):\n",
    "            m = A[i, k] / A[k, k]\n",
    "            b[i] -= m * b[k]\n",
    "            for j in range(k, n):\n",
    "                A[i, j] -= m * A[k, j]\n",
    "\n",
    "    # ---------- Back substitution ----------\n",
    "    x = np.zeros(n)\n",
    "    for i in range(n-1, -1, -1):\n",
    "        s = 0.0\n",
    "        for j in range(i+1, n):\n",
    "            s += A[i, j] * x[j]\n",
    "        x[i] = (b[i] - s) / A[i, i]\n",
    "\n",
    "    return x\n",
    "\n",
    "# Given system\n",
    "A = np.array([[2., 1., -1.],\n",
    "              [3., 3.,  9.],\n",
    "              [3., 4.,  2.]])\n",
    "b = np.array([ 8., 0., -5.])\n",
    "\n",
    "x = gauss_elimination_loops(A, b, pivot=True)\n",
    "print(\"Solution x =\", x)\n"
   ]
  },
  {
   "cell_type": "markdown",
   "id": "8f799611",
   "metadata": {},
   "source": [
    "## 4. Iterative Method- Gauss-Seidel \n",
    "\n",
    " This method solves a system of linear equations iteratively and prints the updated solution vector at each iteration until convergence."
   ]
  },
  {
   "cell_type": "markdown",
   "id": "c743b9c2",
   "metadata": {},
   "source": [
    "Example-\n",
    "\n",
    "Let's solve this system of equation:\n",
    "\n",
    "4x_0 - x_1         = 15 \n",
    "\n",
    "-x_0 - 4x_1 - x_2  = 10\n",
    "     \n",
    "     - x_1  + 3x_2 = 10\n"
   ]
  },
  {
   "cell_type": "code",
   "execution_count": 1,
   "id": "b5bb5730",
   "metadata": {},
   "outputs": [
    {
     "name": "stdout",
     "output_type": "stream",
     "text": [
      "length of b array= 3\n",
      "Initial guess: [0. 0. 0.]\n",
      "Iteration 1:\n",
      "x[0] = 3.75\n",
      "x[1] = 3.4375\n",
      "x[2] = 4.479166666666667\n",
      "Iteration 2:\n",
      "x[0] = 4.609375\n",
      "x[1] = 4.772135416666667\n",
      "x[2] = 4.924045138888889\n",
      "Iteration 3:\n",
      "x[0] = 4.943033854166667\n",
      "x[1] = 4.966769748263889\n",
      "x[2] = 4.988923249421297\n",
      "Iteration 4:\n",
      "x[0] = 4.991692437065972\n",
      "x[1] = 4.995153921621817\n",
      "x[2] = 4.998384640540606\n",
      "Iteration 5:\n",
      "x[0] = 4.998788480405454\n",
      "x[1] = 4.9992932802365155\n",
      "x[2] = 4.999764426745505\n",
      "Iteration 6:\n",
      "x[0] = 4.999823320059129\n",
      "x[1] = 4.999896936701158\n",
      "x[2] = 4.999965645567053\n",
      "Iteration 7:\n",
      "x[0] = 4.99997423417529\n",
      "x[1] = 4.999984969935586\n",
      "x[2] = 4.9999949899785285\n",
      "Iteration 8:\n",
      "x[0] = 4.999996242483896\n",
      "x[1] = 4.999997808115606\n",
      "x[2] = 4.999999269371869\n",
      "Converged!\n",
      "Final solution:\n",
      "[4.99997423 4.99998497 4.99999499]\n"
     ]
    }
   ],
   "source": [
    "import numpy as np\n",
    "\n",
    "# Define the system of equations\n",
    "A = np.array([[4.0, -1.0, 0.0],\n",
    "              [-1.0, 4.0, -1.0],\n",
    "              [0.0, -1.0, 3.0]])\n",
    "b = np.array([15.0, 10.0, 10.0])\n",
    "\n",
    "# Initial guess\n",
    "x = np.zeros_like(b)\n",
    "\n",
    "# Tolerance and maximum iterations\n",
    "tol = 1e-6\n",
    "max_iterations = 25\n",
    "\n",
    "n = len(b)\n",
    "print (\"length of b array=\", n)\n",
    "\n",
    "print(\"Initial guess:\", x)\n",
    "\n",
    "for k in range(max_iterations):\n",
    "    x_new = np.copy(x)\n",
    "    print(f\"Iteration {k+1}:\")\n",
    "    for i in range(n):\n",
    "        s1 = sum(A[i][j] * x_new[j] for j in range(i))\n",
    "        s2 = sum(A[i][j] * x[j] for j in range(i + 1, n))\n",
    "        x_new[i] = (b[i] - s1 - s2) / A[i][i]\n",
    "        print(f\"x[{i}] = {x_new[i]}\")\n",
    "\n",
    "    # Check for convergence\n",
    "    if np.allclose(x, x_new, atol=tol):\n",
    "        print(\"Converged!\")\n",
    "        break\n",
    "    x = x_new\n",
    "\n",
    "print(\"Final solution:\")\n",
    "print(x)\n"
   ]
  },
  {
   "cell_type": "markdown",
   "id": "83080fd0",
   "metadata": {},
   "source": [
    "Exercise- \n",
    "Draw the flowchart of the code above."
   ]
  },
  {
   "cell_type": "markdown",
   "id": "e53a2bdc",
   "metadata": {},
   "source": [
    "## 5 Least Squares Method \n",
    "(Optional for now. We will discuss more later.)\n",
    "\n",
    "\n",
    "Using `np.linalg.lstsq` for least-squares solutions.\n",
    "When 1.) The matrix is not square (more equations than unknowns). 2.)The matrix is singular (determinant is zero). 3.)The system has no solution or infinitely many solutions.\n",
    "\n",
    "When a system of linear equations is **overdetermined** (more equations than unknowns), an exact solution may not exist. In such cases, we also use the **least squares method** to find an approximate solution that minimizes the residual error.\n",
    "\n",
    "Notes\n",
    "- `np.linalg.lstsq` returns the solution vector `x`, residuals, rank of matrix `A`, and singular values.\n",
    "- The residuals indicate how close the solution comes to satisfying all equations.\n",
    "- Least squares is widely used in **data fitting**, **regression**, and **signal processing**."
   ]
  },
  {
   "cell_type": "code",
   "execution_count": 3,
   "id": "42f48067",
   "metadata": {},
   "outputs": [
    {
     "name": "stdout",
     "output_type": "stream",
     "text": [
      "A =\n",
      " [[1. 1.]\n",
      " [1. 2.]\n",
      " [1. 3.]]\n",
      "b =\n",
      " [[1.]\n",
      " [2.]\n",
      " [2.]]\n"
     ]
    },
    {
     "ename": "NameError",
     "evalue": "name 'det' is not defined",
     "output_type": "error",
     "traceback": [
      "\u001b[31m---------------------------------------------------------------------------\u001b[39m",
      "\u001b[31mNameError\u001b[39m                                 Traceback (most recent call last)",
      "\u001b[36mCell\u001b[39m\u001b[36m \u001b[39m\u001b[32mIn[3]\u001b[39m\u001b[32m, line 6\u001b[39m\n\u001b[32m      4\u001b[39m \u001b[38;5;28mprint\u001b[39m(\u001b[33m'\u001b[39m\u001b[33mA =\u001b[39m\u001b[38;5;130;01m\\n\u001b[39;00m\u001b[33m'\u001b[39m, A)\n\u001b[32m      5\u001b[39m \u001b[38;5;28mprint\u001b[39m(\u001b[33m'\u001b[39m\u001b[33mb =\u001b[39m\u001b[38;5;130;01m\\n\u001b[39;00m\u001b[33m'\u001b[39m, b)\n\u001b[32m----> \u001b[39m\u001b[32m6\u001b[39m \u001b[38;5;28mprint\u001b[39m(\u001b[33m'\u001b[39m\u001b[33mdet(A)=\u001b[39m\u001b[33m'\u001b[39m, \u001b[43mdet\u001b[49m(A))\n\u001b[32m      7\u001b[39m x, residuals, rank, s = lstsq(A, b, rcond=\u001b[38;5;28;01mNone\u001b[39;00m)\n\u001b[32m      8\u001b[39m \u001b[38;5;28mprint\u001b[39m(\u001b[33m\"\u001b[39m\u001b[33mRank(A) =\u001b[39m\u001b[33m\"\u001b[39m, rank)\n",
      "\u001b[31mNameError\u001b[39m: name 'det' is not defined"
     ]
    }
   ],
   "source": [
    "import numpy as np\n",
    "A = np.array([[1., 1.], [1., 2.], [1, 3]])\n",
    "b = np.array([1., 2., 2.])[:, None]\n",
    "print('A =\\n', A)\n",
    "print('b =\\n', b)\n",
    "print('det(A)=', det(A))\n",
    "x, residuals, rank, s = lstsq(A, b, rcond=None)\n",
    "print(\"Rank(A) =\", rank)\n",
    "print(\"Singular values of A =\", s)\n",
    "print('Least-squares solution x =', x)\n",
    "print('Residual ||Ax-b|| =', residuals)"
   ]
  },
  {
   "cell_type": "code",
   "execution_count": 4,
   "id": "f3b6956c",
   "metadata": {},
   "outputs": [
    {
     "data": {
      "image/png": "[encoded data removed]",
      "text/plain": [
       "<Figure size 800x600 with 1 Axes>"
      ]
     },
     "metadata": {},
     "output_type": "display_data"
    }
   ],
   "source": [
    "import numpy as np\n",
    "import matplotlib.pyplot as plt\n",
    "\n",
    "# Define x range\n",
    "x = np.linspace(-4, 4, 50)\n",
    "\n",
    "# Define the equations\n",
    "y1 = 1 - x       # x + y = 1\n",
    "y2 = (2 - x) / 2 # x + 2y = 2\n",
    "y3 = (2 - x) / 3 # x + 3y = 2\n",
    "\n",
    "# Plotting\n",
    "plt.figure(figsize=(8, 6))\n",
    "plt.plot(x, y1, label='x + y = 1')\n",
    "plt.plot(x, y2, label='x + 2y = 2')\n",
    "plt.plot(x, y3, label='x + 3y = 2')\n",
    "\n",
    "# Add labels and legend\n",
    "plt.xlabel('x')\n",
    "plt.ylabel('y')\n",
    "plt.title('Plot of Three Linear Equations')\n",
    "plt.grid(True)\n",
    "plt.legend()\n",
    "plt.axhline(0, color='black', linewidth=0.5)\n",
    "plt.axvline(0, color='black', linewidth=0.5)\n",
    "\n",
    "# Show plot\n",
    "plt.show()"
   ]
  },
  {
   "cell_type": "markdown",
   "id": "2cce460e",
   "metadata": {},
   "source": [
    "## 6. Summary Table\n",
    "| Method             | Type         | Pros                     | Cons                      |\n",
    "|--------------------|--------------|--------------------------|---------------------------|\n",
    "| `np.linalg.solve`  | Direct       | Fast, accurate           | Only for square systems   |\n",
    "| Inversion          | Direct       | Conceptually simple      | Numerically unstable      |\n",
    "| Gauss Elimination  | Manual       | Educational               | Tedious for large systems |\n",
    "| Gauss-Seidel       | Iterative    | Good for sparse systems  | Needs convergence check   |\n",
    "| Least Squares      | Overdetermined | Handles extra equations | Approximate solution      |"
   ]
  },
  {
   "cell_type": "markdown",
   "id": "1f7c1bb5",
   "metadata": {},
   "source": [
    "\n",
    "## Exercise Problem 1: \n",
    "Solve this system of equations using least squares method and plot the three line in one plot.\n",
    "1. \\(2x + y = 8\\)\n",
    "2. \\(x + 3y = 13\\)\n",
    "3. \\(x + y = 7\\) *(Overdetermined)*\n",
    "\n"
   ]
  },
  {
   "cell_type": "code",
   "execution_count": 6,
   "id": "cc629d86",
   "metadata": {},
   "outputs": [
    {
     "name": "stdout",
     "output_type": "stream",
     "text": [
      "Least-squares solution: x* = 2.4000, y* = 3.6000\n",
      "Sum of squared residuals: 1.2000\n",
      "Rank(A) = 2, singular values = [3.87298335 1.41421356]\n"
     ]
    },
    {
     "data": {
      "image/png": "[encoded data removed]",
      "text/plain": [
       "<Figure size 600x500 with 1 Axes>"
      ]
     },
     "metadata": {},
     "output_type": "display_data"
    }
   ],
   "source": [
    "import numpy as np\n",
    "import matplotlib.pyplot as plt\n",
    "A = np.array([[2., 1.],\n",
    "              [1., 3.],\n",
    "              [1., 1.]])\n",
    "b = np.array([8., 13., 7.])\n",
    "\n",
    "x_ls, residuals, rank, s = np.linalg.lstsq(A, b, rcond=None)\n",
    "x_star, y_star = x_ls\n",
    "\n",
    "print(f\"Least-squares solution: x* = {x_star:.4f}, y* = {y_star:.4f}\")\n",
    "print(f\"Sum of squared residuals: {residuals[0]:.4f}\" if residuals.size else \"No residuals (exact fit)\")\n",
    "print(f\"Rank(A) = {rank}, singular values = {s}\")\n",
    "\n",
    "x = np.linspace(-2, 10, 400)\n",
    "y1 = 8 - 2*x        # 2x + y = 8\n",
    "y2 = (13 - x) / 3   # x + 3y = 13\n",
    "y3 = 7 - x          # x + y = 7\n",
    "\n",
    "plt.figure(figsize=(6, 5))\n",
    "plt.plot(x, y1, label='2x + y = 8')\n",
    "plt.plot(x, y2, label='x + 3y = 13')\n",
    "plt.plot(x, y3, label='x + y = 7')\n",
    "plt.scatter([x_star], [y_star], label=f'LS solution ({x_star:.3f}, {y_star:.3f})')\n",
    "plt.xlabel('x')\n",
    "plt.ylabel('y')\n",
    "plt.title('Overdetermined system solved by least squares')\n",
    "plt.legend()\n",
    "plt.grid(True)\n",
    "plt.show()\n",
    "\n"
   ]
  },
  {
   "cell_type": "markdown",
   "id": "6a08461a",
   "metadata": {},
   "source": [
    "## Exercise Problem 2\n",
    "Create a $3\\times 3$ system with a unique solution. Verify using rank and determinant, then solve with `solve`."
   ]
  },
  {
   "cell_type": "code",
   "execution_count": 8,
   "id": "62041e99",
   "metadata": {},
   "outputs": [
    {
     "name": "stdout",
     "output_type": "stream",
     "text": [
      "rank(A) = 3\n",
      "det(A)  = -1.0\n",
      "solution x = [1. 2. 3.]\n"
     ]
    }
   ],
   "source": [
    "# Your code here\n",
    "import numpy as np\n",
    "A = np.array([[2., 1., 1.],\n",
    "              [1., 3., 2.],\n",
    "              [1., 0., 0.]])\n",
    "b = np.array([7., 13., 1.])  \n",
    "\n",
    "\n",
    "rankA = np.linalg.matrix_rank(A)     \n",
    "detA  = np.linalg.det(A)             \n",
    "\n",
    "print(f\"rank(A) = {rankA}\")\n",
    "print(f\"det(A)  = {detA:.1f}\")      \n",
    "\n",
    "\n",
    "x = np.linalg.solve(A, b)\n",
    "print(\"solution x =\", x)\n",
    "\n",
    "\n"
   ]
  },
  {
   "cell_type": "markdown",
   "id": "570cc887",
   "metadata": {},
   "source": [
    "## Exercise Problem 3\n",
    "Create an inconsistent system. Compute the least-squares solution and residual norm."
   ]
  },
  {
   "cell_type": "code",
   "execution_count": 11,
   "id": "5a3412db",
   "metadata": {},
   "outputs": [
    {
     "name": "stdout",
     "output_type": "stream",
     "text": [
      "x* (least-squares) = [2.1 1.1]\n",
      "Residual vector r = [ 1.2000000e+00  8.8817842e-16 -6.0000000e-01]\n",
      "||r||2 = 1.3416407864998738\n",
      "Sum of squared residuals = 1.7999999999999958\n",
      "rank(A) = 2  singular values = [3.16227766 1.41421356]\n"
     ]
    }
   ],
   "source": [
    "import numpy as np\n",
    "\n",
    "A = np.array([[1., 1.],\n",
    "              [1., -1.],\n",
    "              [2., 2.]])\n",
    "b = np.array([2., 1., 7.])\n",
    "x_ls, residuals, rank, s = np.linalg.lstsq(A, b, rcond=None)\n",
    "r = A @ x_ls - b\n",
    "residual_norm = np.linalg.norm(r)\n",
    "print(\"x* (least-squares) =\", x_ls)         \n",
    "print(\"Residual vector r =\", r)               \n",
    "print(\"||r||2 =\", residual_norm)          \n",
    "print(\"Sum of squared residuals =\", residuals[0])  \n",
    "print(\"rank(A) =\", rank, \" singular values =\", s)\n"
   ]
  },
  {
   "cell_type": "markdown",
   "id": "803b2429",
   "metadata": {},
   "source": [
    "## Exercise Problem 4\n",
    "Use `gaussian_elimination_solve` to solve a new square system and verify the result with `solve`."
   ]
  },
  {
   "cell_type": "code",
   "execution_count": 17,
   "id": "0b968a22",
   "metadata": {},
   "outputs": [
    {
     "name": "stdout",
     "output_type": "stream",
     "text": [
      "[1.22580645 4.36656891 3.15249267]\n",
      "True\n"
     ]
    }
   ],
   "source": [
    "import numpy as np\n",
    "\n",
    "def gaussian_elimination_solve(A, b):\n",
    "    A = A.astype(float).copy(); b = b.astype(float).copy()\n",
    "    n = len(b)\n",
    "    for k in range(n - 1):\n",
    "        p = k + np.argmax(np.abs(A[k:, k]))           # pick pivot row\n",
    "        A[[k, p]], b[[k, p]] = A[[p, k]], b[[p, k]]   # swap\n",
    "        for i in range(k + 1, n):\n",
    "            m = A[i, k] / A[k, k]\n",
    "            A[i, k:], b[i] = A[i, k:] - m*A[k, k:], b[i] - m*b[k]\n",
    "    x = np.zeros(n)\n",
    "    for i in range(n - 1, -1, -1):\n",
    "        x[i] = (b[i] - A[i, i+1:] @ x[i+1:]) / A[i, i]\n",
    "    return x\n",
    "\n",
    "A = np.array([[7., -2.,  1.],\n",
    "              [3.,  8., -4.],\n",
    "              [2., -1.,  6.]])\n",
    "b = np.array([3., 26., 17.])\n",
    "\n",
    "x = gaussian_elimination_solve(A, b)\n",
    "print(x)\n",
    "print(np.allclose(x, np.linalg.solve(A, b))) \n"
   ]
  },
  {
   "cell_type": "code",
   "execution_count": null,
   "id": "9543c7e2",
   "metadata": {},
   "outputs": [],
   "source": []
  }
 ],
 "metadata": {
  "kernelspec": {
   "display_name": "Python 3",
   "language": "python",
   "name": "python3"
  },
  "language_info": {
   "codemirror_mode": {
    "name": "ipython",
    "version": 3
   },
   "file_extension": ".py",
   "mimetype": "text/x-python",
   "name": "python",
   "nbconvert_exporter": "python",
   "pygments_lexer": "ipython3",
   "version": "3.13.7"
  }
 },
 "nbformat": 4,
 "nbformat_minor": 5
}
