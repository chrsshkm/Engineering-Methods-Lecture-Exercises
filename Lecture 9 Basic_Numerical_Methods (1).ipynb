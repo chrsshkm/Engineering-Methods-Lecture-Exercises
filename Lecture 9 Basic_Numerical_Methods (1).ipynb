{
 "cells": [
  {
   "cell_type": "markdown",
   "id": "02fff001",
   "metadata": {},
   "source": [
    "# Basic Numerical Methods"
   ]
  },
  {
   "cell_type": "markdown",
   "id": "0f31c7ee",
   "metadata": {},
   "source": [
    "\n",
    "## 1. Least Squares Method and Regression Analysis\n"
   ]
  },
  {
   "cell_type": "markdown",
   "id": "90fb014d",
   "metadata": {},
   "source": [
    "\n",
    "### a. Least Squares Method\n",
    "\n",
    "The least squares method minimizes the sum of squared differences between observed and predicted values. It's used to find the best-fitting line in regression analysis.\n",
    "\n",
    "Mathematically:\n",
    "$$\n",
    "\t{Error} = \\sum_{i=1}^{n} (y_i - \\hat{y}_i)^2\n",
    "$$\n",
    "Where:\n",
    "$$\n",
    "(y_i) = actual value\n",
    "$$\n",
    "$$\n",
    "(\\hat{y}_i) = predicted value$$\n",
    "$$\n",
    "    "
   ]
  },
  {
   "cell_type": "markdown",
   "id": "b2385f3d",
   "metadata": {},
   "source": [
    "\n",
    "### b. Simple Linear Regression Example\n",
    "\n",
    "Goal of Linear Regression:\n",
    "\n",
    "We want to find the best-fitting line: \\( y = mx + b \\)"
   ]
  },
  {
   "cell_type": "code",
   "execution_count": 1,
   "id": "7ffc3f66",
   "metadata": {},
   "outputs": [
    {
     "name": "stdout",
     "output_type": "stream",
     "text": [
      "Design Matrix A:\n",
      " [[1. 1.]\n",
      " [2. 1.]\n",
      " [3. 1.]\n",
      " [4. 1.]\n",
      " [5. 1.]]\n",
      "Slope (m): 0.7499999999999999\n",
      "Intercept (b): 1.3899999999999992\n",
      "Residuals: [0.027]\n",
      "Rank of matrix A: 2\n",
      "Singular values of A: [7.69121313 0.91936964]\n"
     ]
    },
    {
     "data": {
      "image/png": "[encoded data removed]",
      "text/plain": [
       "<Figure size 640x480 with 1 Axes>"
      ]
     },
     "metadata": {},
     "output_type": "display_data"
    }
   ],
   "source": [
    "import numpy as np\n",
    "import matplotlib.pyplot as plt\n",
    "\n",
    "# Step 1: Design matrix construction based on data points\n",
    "x = np.array([1, 2, 3, 4, 5])\n",
    "y = np.array([2.2,2.8,3.6,4.5,5.1])\n",
    "\n",
    "# Step 2: Build matrix A: Each row represents the linear model y=mx+c.\n",
    "A = np.vstack([x, np.ones(len(x))]).T # Stack x and a column of ones and then transpose it\n",
    "print (\"Design Matrix A:\\n\", A) # The first column is the value of x. The second column is always 1, which allows us to solve for the intercept c.\n",
    "\n",
    "# Step 3: Fit line using least squares- it solves for the slope m and intercept c of the best-fit line\n",
    "# np.linalg.lstsq returns a tuple (coeffs, residuals, rank, s), so unpack accordingly.\n",
    "coeffs, residuals, rank, s = np.linalg.lstsq(A, y, rcond=None)\n",
    "m = coeffs[0]\n",
    "b = coeffs[1]\n",
    "\n",
    "# Step 4: Output the results and plot them\n",
    "print(\"Slope (m):\", m)\n",
    "print(\"Intercept (b):\", b)\n",
    "print(\"Residuals:\", residuals)\n",
    "print(\"Rank of matrix A:\", rank)\n",
    "print(\"Singular values of A:\", s) \n",
    "\n",
    "plt.scatter(x, y, label='Data')\n",
    "plt.plot(x, m*x + b, 'r', label='Fitted line')\n",
    "plt.legend()\n",
    "plt.title('Linear Regression')\n",
    "plt.xlabel('x')\n",
    "plt.ylabel('y')\n",
    "plt.grid(True)\n",
    "plt.show()\n"
   ]
  },
  {
   "cell_type": "markdown",
   "id": "5faa5fd5",
   "metadata": {},
   "source": [
    "#### Exercise- Make up a set of data and find their best fit using least squares linear regression."
   ]
  },
  {
   "cell_type": "code",
   "execution_count": null,
   "id": "e3fade25",
   "metadata": {},
   "outputs": [],
   "source": [
    "# Your code here"
   ]
  },
  {
   "cell_type": "markdown",
   "id": "11f2bffb",
   "metadata": {},
   "source": [
    "\n",
    "## 2. Root Finding Methods in Numerical Analysis\n",
    "\n",
    "This notebook demonstrates two popular numerical methods for finding roots of equations:\n",
    "\n",
    "1. **Bisection Method**\n",
    "2. **Newton-Raphson Method**\n",
    "\n",
    "We will use the function:\n",
    "\\[ f(x) = x^3 - 2x - 5 \\]\n"
   ]
  },
  {
   "cell_type": "markdown",
   "id": "0d658ac3",
   "metadata": {},
   "source": [
    "\n",
    "### a. Bisection Method\n",
    "\n",
    "The Bisection Method is a simple and robust technique for finding roots of a continuous function. It works by repeatedly halving an interval and selecting the subinterval in which the function changes sign.\n",
    "\n",
    "#### Algorithm Steps:\n",
    "1. Define the function f(x)\n",
    "2. Choose interval [a, b] where f(a) * f(b) < 0\n",
    "3. Repeat until convergence:\n",
    "   - Compute midpoint c = (a + b)/2\n",
    "   - Evaluate f(c)\n",
    "   - If f(c) * f(a) < 0, set b = c\n",
    "   - Else, set a = c\n",
    "   - Stop when |f(c)| is small enough\n"
   ]
  },
  {
   "cell_type": "code",
   "execution_count": 10,
   "id": "76bf1abd",
   "metadata": {},
   "outputs": [
    {
     "name": "stdout",
     "output_type": "stream",
     "text": [
      "Root ≈ 2.094551481542112\n",
      "f(root) ≈ -2.3945290195115376e-12\n"
     ]
    }
   ],
   "source": [
    "def f(x):\n",
    "    return x**3 - 2*x - 5\n",
    "interval = [2.0, 3.0]\n",
    "tol = 1e-12\n",
    "fa = f(interval[0])\n",
    "fb = f(interval[1])\n",
    "while (interval[1] - interval[0]) / 2.0 > tol:\n",
    "    c = (interval[0] + interval[1]) / 2.0\n",
    "    fc = f(c)\n",
    "    if fc == 0.0:        \n",
    "        interval = [c, c]\n",
    "        break  \n",
    "    if fc * fa < 0:      \n",
    "        interval[1] = c\n",
    "        fb = fc\n",
    "    else:                \n",
    "        interval[0] = c\n",
    "        fa = fc\n",
    "root = (interval[0] + interval[1]) / 2.0\n",
    "print(\"Root ≈\", root)\n",
    "print(\"f(root) ≈\", f(root))\n"
   ]
  },
  {
   "cell_type": "markdown",
   "id": "fffaf4bb",
   "metadata": {},
   "source": [
    "\n",
    "### b. Newton-Raphson Method\n",
    "\n",
    "The Newton-Raphson Method is an efficient technique for finding roots using the function's derivative.\n",
    "\n",
    "#### Algorithm Steps:\n",
    "1. Define the function and its deriative\n",
    "\n",
    "2. Start with an initial guess \\( x_0 \\).\n",
    "\n",
    "3. Repeat \n",
    "   Compute the next approximation using:\n",
    "\n",
    "   $$ x_{n+1} = x_n - \\frac{f(x_n)}{f'(x_n)} $$\n",
    "\n",
    "   Until:\n",
    "\n",
    "   $$ |x_{n+1} - x_n| < \\varepsilon $$\n",
    "\n",
    "4. Return the final approximation $$ x_{n+1} $$ as the root.\n",
    "\n"
   ]
  },
  {
   "cell_type": "code",
   "execution_count": 27,
   "id": "38830cf1",
   "metadata": {},
   "outputs": [
    {
     "name": "stdout",
     "output_type": "stream",
     "text": [
      "Root ≈ 2.094568121104185\n"
     ]
    }
   ],
   "source": [
    "# Complete the Newton-Raphson Method implementation\n",
    "def f(x):\n",
    "    return x**3 - 2*x - 5\n",
    "\n",
    "def df(x):\n",
    "    return 3*x**2 - 2\n",
    "i =1\n",
    "x_0= 2\n",
    "max_iteration = 100\n",
    "tolerance= 1e-10\n",
    "while i <= max_iteration:\n",
    "    x_new = x_0 - f(x_0) / df(x_0)\n",
    "    if abs(x_mew - x_0) <= tolerance:\n",
    "        root_newton= x_new\n",
    "        break\n",
    "    x_0 = x_new\n",
    "print(\"Root ≈\", root_newton)\n",
    "# print(\"Root found using Newton-Raphson Method:\", root_newton)\n"
   ]
  },
  {
   "cell_type": "markdown",
   "id": "39cbbde8",
   "metadata": {},
   "source": [
    "### Root finding exercise: Beam Deflection\n",
    "\n",
    "A simply supported beam of length (L = 10m ) is subjected to a uniformly distributed load w = 5 kN/m. The deflection y(x) of the beam at a distance x from the left support is given by:\n",
    "\n",
    "$$\n",
    "y(x) = \\frac{w}{24EI} \\, x \\left( L^3 - 2Lx^2 + x^3 \\right)\n",
    "$$\n",
    "\n",
    "#### 🎯 Task:\n",
    "Use a root-finding method (e.g., Newton-Raphson or Bisection) to find the position \\( x \\) along the beam where the **maximum deflection** occurs.\n",
    "\n",
    "#### 💡 Hint:\n",
    "To find the maximum deflection:\n",
    "1. Compute the derivative y'(x) \n",
    "2. Solve y'(x) = 0  within the interval x in [0, L] \n",
    "\n",
    "#### 📌 Constants:\n",
    "- L = 10 \n",
    "- w = 5 \n",
    "- E and I are constants (you may assume EI = 1 for simplicity)"
   ]
  },
  {
   "cell_type": "code",
   "execution_count": null,
   "id": "70d8c122",
   "metadata": {},
   "outputs": [],
   "source": [
    "# Your code here"
   ]
  }
 ],
 "metadata": {
  "kernelspec": {
   "display_name": "Python 3",
   "language": "python",
   "name": "python3"
  },
  "language_info": {
   "codemirror_mode": {
    "name": "ipython",
    "version": 3
   },
   "file_extension": ".py",
   "mimetype": "text/x-python",
   "name": "python",
   "nbconvert_exporter": "python",
   "pygments_lexer": "ipython3",
   "version": "3.13.7"
  }
 },
 "nbformat": 4,
 "nbformat_minor": 5
}
