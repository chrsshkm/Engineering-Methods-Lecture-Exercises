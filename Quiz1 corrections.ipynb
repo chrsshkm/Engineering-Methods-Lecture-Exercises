{
 "cells": [
  {
   "cell_type": "code",
   "execution_count": null,
   "id": "9a937276",
   "metadata": {},
   "outputs": [
    {
     "name": "stdout",
     "output_type": "stream",
     "text": [
      "23\n",
      "35\n",
      "3125\n",
      "7\n"
     ]
    }
   ],
   "source": [
    "#Quiz 1 question 18. Which expression equals 25?\n",
    "#a\n",
    "print(3+4*5)\n",
    "#b\n",
    "print((3+4)*5)\n",
    "#c\n",
    "print(5**5)\n",
    "#d\n",
    "print(5^2)\n",
    "#answer = none"
   ]
  },
  {
   "cell_type": "code",
   "execution_count": null,
   "id": "939c36c1",
   "metadata": {},
   "outputs": [],
   "source": []
  }
 ],
 "metadata": {
  "kernelspec": {
   "display_name": "base",
   "language": "python",
   "name": "python3"
  },
  "language_info": {
   "codemirror_mode": {
    "name": "ipython",
    "version": 3
   },
   "file_extension": ".py",
   "mimetype": "text/x-python",
   "name": "python",
   "nbconvert_exporter": "python",
   "pygments_lexer": "ipython3",
   "version": "3.13.5"
  }
 },
 "nbformat": 4,
 "nbformat_minor": 5
}
